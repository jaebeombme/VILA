{
 "cells": [
  {
   "cell_type": "code",
   "execution_count": 11,
   "metadata": {},
   "outputs": [
    {
     "name": "stdout",
     "output_type": "stream",
     "text": [
      "Saved 1800 samples to /home/hufsaim/VLM/VLM/m3/demo/0704/tumor_classification_data.json\n"
     ]
    }
   ],
   "source": [
    "import os\n",
    "import json\n",
    "\n",
    "# 설정\n",
    "root_dir = \"/home/hufsaim/VLM/VLM/data/TumorClassification/jpg\"\n",
    "output_json_path = \"/home/hufsaim/VLM/VLM/m3/demo/0704/tumor_classification_data.json\"\n",
    "\n",
    "# 클래스 목록\n",
    "tumor_types = [\"Glioma\", \"Lymphoma\", \"Metastasis\"]\n",
    "modalities = [\"T1\", \"T2\", \"T1GD\", \"FLAIR\"]\n",
    "\n",
    "# 질문 리스트\n",
    "questions = [\n",
    "    \"Does the tumor shown in this image appear to be a glioma, lymphoma, or metastasis?\",\n",
    "    \"Can the tumor in this scan be classified as a glioma, lymphoma, or metastasis?\",\n",
    "    \"Is the tumor most likely a glioma, lymphoma, or metastasis based on the image?\"\n",
    "]\n",
    "\n",
    "# JSON 생성\n",
    "json_data = []\n",
    "uid = 1\n",
    "\n",
    "for tumor in tumor_types:\n",
    "    tumor_path = os.path.join(root_dir, tumor)\n",
    "    if not os.path.isdir(tumor_path):\n",
    "        continue\n",
    "\n",
    "    for patient_id in os.listdir(tumor_path):\n",
    "        patient_dir = os.path.join(tumor_path, patient_id)\n",
    "        if not os.path.isdir(patient_dir):\n",
    "            continue\n",
    "\n",
    "        # modality 이미지 확인\n",
    "        images = []\n",
    "        for mod in modalities:\n",
    "            image_path = os.path.join(\"TumorClassification/jpg\", tumor, patient_id, f\"{patient_id}_{mod}.jpg\")\n",
    "            full_image_path = os.path.join(root_dir, tumor, patient_id, f\"{patient_id}_{mod}.jpg\")\n",
    "            if os.path.exists(full_image_path):\n",
    "                images.append(image_path)\n",
    "\n",
    "        if len(images) != 4:\n",
    "            continue  # 모든 modality가 있어야 포함\n",
    "\n",
    "        # JSON entry 생성\n",
    "        for q in questions:\n",
    "            prompt = (\n",
    "                \"<image>\\n\" * ( len(images) )\n",
    "                + \"The predicted tumor type is: \"\n",
    "                + tumor\n",
    "                + \".\\nUse this result to respond to this prompt:\\n\"\n",
    "                + q\n",
    "            )\n",
    "            sample = {\n",
    "                \"id\": uid,\n",
    "                \"image\": images,\n",
    "                \"conversations\": [\n",
    "                    {\n",
    "                        \"from\": \"human\",\n",
    "                        \"value\": prompt\n",
    "                    },\n",
    "                    {\n",
    "                        \"from\": \"gpt\",\n",
    "                        \"value\": tumor\n",
    "                    }\n",
    "                ]\n",
    "            }\n",
    "            json_data.append(sample)\n",
    "            uid += 1\n",
    "\n",
    "# 저장\n",
    "with open(output_json_path, \"w\") as f:\n",
    "    json.dump(json_data, f, indent=2)\n",
    "\n",
    "print(f\"Saved {len(json_data)} samples to {output_json_path}\")\n"
   ]
  },
  {
   "cell_type": "code",
   "execution_count": 7,
   "metadata": {},
   "outputs": [
    {
     "name": "stdout",
     "output_type": "stream",
     "text": [
      "Saved stratified tumor-type patient splits to /home/hufsaim/VLM/VLM/data/TumorClassification/tumor_split_by_class.json\n"
     ]
    }
   ],
   "source": [
    "import os\n",
    "import json\n",
    "from sklearn.model_selection import train_test_split\n",
    "\n",
    "# 설정\n",
    "data_root = \"/home/hufsaim/VLM/VLM/data/TumorClassification/train\"\n",
    "output_json = \"/home/hufsaim/VLM/VLM/data/TumorClassification/tumor_split_by_class.json\"\n",
    "val_ratio = 0.2\n",
    "random_state = 42  # 항상 동일한 분할을 보장\n",
    "\n",
    "# label_map 정의 (예시)\n",
    "label_map = {\n",
    "    \"Glioma\": 0,\n",
    "    \"Lymphoma\": 1,\n",
    "    \"Metastasis\": 2\n",
    "}\n",
    "\n",
    "# 환자 목록 및 라벨 수집\n",
    "patient_paths = []\n",
    "labels = []\n",
    "\n",
    "for tumor_type, label_idx in label_map.items():\n",
    "    tumor_dir = os.path.join(data_root, tumor_type)\n",
    "    if not os.path.isdir(tumor_dir):\n",
    "        continue\n",
    "    for patient_id in os.listdir(tumor_dir):\n",
    "        patient_path = os.path.join(tumor_dir, patient_id)\n",
    "        if os.path.isdir(patient_path):\n",
    "            patient_paths.append((tumor_type, patient_id))  # tuple\n",
    "            labels.append(label_idx)\n",
    "\n",
    "# stratified split\n",
    "train_data, val_data, _, _ = train_test_split(\n",
    "    patient_paths, labels,\n",
    "    test_size=val_ratio,\n",
    "    stratify=labels,\n",
    "    random_state=random_state\n",
    ")\n",
    "\n",
    "# split 저장 구조\n",
    "split = {\"train\": {}, \"val\": {}}\n",
    "\n",
    "for tumor_type in label_map:\n",
    "    split[\"train\"][tumor_type] = []\n",
    "    split[\"val\"][tumor_type] = []\n",
    "\n",
    "for tumor_type, patient_id in train_data:\n",
    "    split[\"train\"][tumor_type].append(patient_id)\n",
    "for tumor_type, patient_id in val_data:\n",
    "    split[\"val\"][tumor_type].append(patient_id)\n",
    "\n",
    "# 저장\n",
    "with open(output_json, \"w\") as f:\n",
    "    json.dump(split, f, indent=2)\n",
    "\n",
    "print(f\"Saved stratified tumor-type patient splits to {output_json}\")\n"
   ]
  },
  {
   "cell_type": "code",
   "execution_count": 8,
   "metadata": {},
   "outputs": [
    {
     "name": "stdout",
     "output_type": "stream",
     "text": [
      "Saved inference json to /home/hufsaim/VLM/VLM/m3/demo/0704/vila_infer_input_val.json, total: 120 samples.\n"
     ]
    }
   ],
   "source": [
    "import os\n",
    "import json\n",
    "\n",
    "# 설정\n",
    "split_json_path = \"/home/hufsaim/VLM/VLM/data/TumorClassification/tumor_split_by_class.json\"\n",
    "data_root = \"/home/hufsaim/VLM/VLM/data/TumorClassification\"\n",
    "output_json_path = \"/home/hufsaim/VLM/VLM/m3/demo/0704/vila_infer_input_val.json\"\n",
    "modalities = [\"T1GD\", \"T1\", \"T2\", \"FLAIR\", \"label\"]\n",
    "split_type = \"val\"  # 또는 \"train\"\n",
    "\n",
    "# 불러오기\n",
    "with open(split_json_path, \"r\") as f:\n",
    "    split_dict = json.load(f)\n",
    "\n",
    "inference_list = []\n",
    "uid = 1\n",
    "\n",
    "for tumor_type, patient_ids in split_dict[split_type].items():\n",
    "    for patient_id in patient_ids:\n",
    "        image_paths = []\n",
    "        for modality in modalities:\n",
    "            filename = f\"{patient_id}_{modality}.nii.gz\"\n",
    "            path = os.path.join(data_root,'train', tumor_type, patient_id, filename)\n",
    "            if not os.path.exists(path):\n",
    "                print(f\"[Warning] Missing file: {path}\")\n",
    "                continue\n",
    "            image_paths.append(path)\n",
    "\n",
    "        if len(image_paths) == len(modalities):  # 모두 존재할 때만 추가\n",
    "            sample = {\n",
    "                \"id\": uid,\n",
    "                \"USER\": \"Does the tumor shown in this image appear to be a glioma, lymphoma, or metastasis?\",\n",
    "                \"GT\": tumor_type,\n",
    "                \"image_path\": image_paths\n",
    "            }\n",
    "            inference_list.append(sample)\n",
    "            uid += 1\n",
    "\n",
    "# 저장\n",
    "with open(output_json_path, \"w\") as f:\n",
    "    json.dump(inference_list, f, indent=2)\n",
    "\n",
    "print(f\"Saved inference json to {output_json_path}, total: {len(inference_list)} samples.\")\n"
   ]
  },
  {
   "cell_type": "code",
   "execution_count": 12,
   "metadata": {},
   "outputs": [
    {
     "data": {
      "text/plain": [
       "'/home/hufsaim/VLM/VLM/m3/demo/0704/vila_infer_input_val_we.json'"
      ]
     },
     "execution_count": 12,
     "metadata": {},
     "output_type": "execute_result"
    }
   ],
   "source": [
    "import json\n",
    "from pathlib import Path\n",
    "\n",
    "# Reload the file after state reset\n",
    "input_path = \"/home/hufsaim/VLM/VLM/m3/demo/0704/vila_infer_input_val.json\"\n",
    "with open(input_path, \"r\") as f:\n",
    "    data = json.load(f)\n",
    "\n",
    "# Update USER field with the new prompt format\n",
    "for sample in data:\n",
    "    q = sample[\"USER\"]\n",
    "    gt = sample[\"GT\"]\n",
    "    sample[\"USER\"] = f\"The predicted tumor type is: {gt}.\\nUse this result to respond to this prompt:\\n{q}\"\n",
    "\n",
    "# Save the modified data\n",
    "output_path = \"/home/hufsaim/VLM/VLM/m3/demo/0704/vila_infer_input_val_we.json\"\n",
    "with open(output_path, \"w\") as f:\n",
    "    json.dump(data, f, indent=2)\n",
    "\n",
    "output_path"
   ]
  },
  {
   "cell_type": "code",
   "execution_count": 2,
   "metadata": {},
   "outputs": [],
   "source": [
    "import os\n",
    "import json\n",
    "\n",
    "def save_patient_ids_to_json(root_dir, output_path):\n",
    "    # 하위 폴더 이름을 모두 수집 (숫자인 식별자라고 가정)\n",
    "    patient_ids = [name for name in os.listdir(root_dir)\n",
    "                   if os.path.isdir(os.path.join(root_dir, name))]\n",
    "\n",
    "    # 정렬 (선택 사항)\n",
    "    patient_ids.sort()\n",
    "\n",
    "    # JSON 구조로 저장\n",
    "    data = {\"patient_ids\": patient_ids}\n",
    "\n",
    "    with open(output_path, \"w\") as f:\n",
    "        json.dump(data, f, indent=4)\n",
    "\n",
    "    print(f\"✅ Saved {len(patient_ids)} patient IDs to: {output_path}\")\n"
   ]
  },
  {
   "cell_type": "code",
   "execution_count": 4,
   "metadata": {},
   "outputs": [
    {
     "name": "stdout",
     "output_type": "stream",
     "text": [
      "✅ Saved 200 patient IDs to: /home/hufsaim/VLM/VLM/data/TumorClassification/Lymphoma.json\n"
     ]
    }
   ],
   "source": [
    "root_folder = \"/home/hufsaim/VLM/VLM/data/TumorClassification/train/Lymphoma\"   # 예: \"/data/MRI\"\n",
    "output_json = \"/home/hufsaim/VLM/VLM/data/TumorClassification/Lymphoma.json\"\n",
    "\n",
    "save_patient_ids_to_json(root_folder, output_json)\n"
   ]
  },
  {
   "cell_type": "code",
   "execution_count": null,
   "metadata": {},
   "outputs": [],
   "source": []
  }
 ],
 "metadata": {
  "kernelspec": {
   "display_name": "vila",
   "language": "python",
   "name": "python3"
  },
  "language_info": {
   "codemirror_mode": {
    "name": "ipython",
    "version": 3
   },
   "file_extension": ".py",
   "mimetype": "text/x-python",
   "name": "python",
   "nbconvert_exporter": "python",
   "pygments_lexer": "ipython3",
   "version": "3.10.16"
  }
 },
 "nbformat": 4,
 "nbformat_minor": 2
}
